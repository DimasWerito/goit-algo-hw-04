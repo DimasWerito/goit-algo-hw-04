{
  "nbformat": 4,
  "nbformat_minor": 0,
  "metadata": {
    "colab": {
      "provenance": [],
      "authorship_tag": "ABX9TyM4cCHV90roUG/HxiOOuQ0F",
      "include_colab_link": true
    },
    "kernelspec": {
      "name": "python3",
      "display_name": "Python 3"
    },
    "language_info": {
      "name": "python"
    }
  },
  "cells": [
    {
      "cell_type": "markdown",
      "metadata": {
        "id": "view-in-github",
        "colab_type": "text"
      },
      "source": [
        "<a href=\"https://colab.research.google.com/github/DimasWerito/goit-algo-hw-04/blob/main/%D0%94%D0%974_%D0%9A%D1%80%D0%B0%D1%81%D1%96%D0%BB%D1%8C%D0%BD%D0%B8%D0%BA%D0%BE%D0%B2_%D0%94%D0%BC%D0%B8%D1%82%D1%80%D0%BE_%D0%9A%D0%BE%D1%81%D1%82%D1%8F%D0%BD%D1%82%D0%B8%D0%BD%D0%BE%D0%B2%D0%B8%D1%87.ipynb\" target=\"_parent\"><img src=\"https://colab.research.google.com/assets/colab-badge.svg\" alt=\"Open In Colab\"/></a>"
      ]
    },
    {
      "cell_type": "markdown",
      "source": [
        "# Завдання 1"
      ],
      "metadata": {
        "id": "eBmpYFNZClF_"
      }
    },
    {
      "cell_type": "markdown",
      "source": [
        "Для виконання цього завдання ми створимо три окремі функції для кожного з алгоритмів сортування — сортування вставками, сортування злиттям, і будемо використовувати вбудовану функцію sorted(), що використовує Timsort."
      ],
      "metadata": {
        "id": "V-W8ghv-Cq15"
      }
    },
    {
      "cell_type": "markdown",
      "source": [
        "1. Сортування вставками"
      ],
      "metadata": {
        "id": "Qo5KO3AFCytL"
      }
    },
    {
      "cell_type": "code",
      "execution_count": 7,
      "metadata": {
        "id": "nMyT8q3TCjhq"
      },
      "outputs": [],
      "source": [
        "def insertion_sort(arr):\n",
        "    for i in range(1, len(arr)):\n",
        "        key = arr[i]\n",
        "        j = i - 1\n",
        "        while j >= 0 and key < arr[j]:\n",
        "            arr[j + 1] = arr[j]\n",
        "            j -= 1\n",
        "        arr[j + 1] = key\n"
      ]
    },
    {
      "cell_type": "markdown",
      "source": [
        "2. Сортування злиттям"
      ],
      "metadata": {
        "id": "SxwQ7Z0pC6H8"
      }
    },
    {
      "cell_type": "code",
      "source": [
        "def merge_sort(arr):\n",
        "    if len(arr) > 1:\n",
        "        mid = len(arr) // 2\n",
        "        L = arr[:mid]\n",
        "        R = arr[mid:]\n",
        "\n",
        "        merge_sort(L)\n",
        "        merge_sort(R)\n",
        "\n",
        "        i = j = k = 0\n",
        "\n",
        "        while i < len(L) and j < len(R):\n",
        "            if L[i] < R[j]:\n",
        "                arr[k] = L[i]\n",
        "                i += 1\n",
        "            else:\n",
        "                arr[k] = R[j]\n",
        "                j += 1\n",
        "            k += 1\n",
        "\n",
        "        while i < len(L):\n",
        "            arr[k] = L[i]\n",
        "            i += 1\n",
        "            k += 1\n",
        "\n",
        "        while j < len(R):\n",
        "            arr[k] = R[j]\n",
        "            j += 1\n",
        "            k += 1\n"
      ],
      "metadata": {
        "id": "HPykB6IlDBME"
      },
      "execution_count": 8,
      "outputs": []
    },
    {
      "cell_type": "markdown",
      "source": [
        "Тестування алгоритмів.\n",
        "Для тестування алгоритмів, створимо випадкові масиви різної величини (наприклад, 100, 1000, 10000 елементів) та виміряємо час їх сортування за допомогою модулю timeit."
      ],
      "metadata": {
        "id": "_meMkX7jDIDW"
      }
    },
    {
      "cell_type": "markdown",
      "source": [
        "Аналіз та порівняння.\n",
        "Використовуємо timeit для заміру часу виконання кожного сортування. Порівняємо результати та продемонструємо на практиці переваги Timsort через поєднання сортування вставками та злиттям, особливо на великих масивах даних."
      ],
      "metadata": {
        "id": "6imXRbrJDaOh"
      }
    },
    {
      "cell_type": "code",
      "source": [
        "import random\n",
        "import timeit\n",
        "\n",
        "# Функція для генерації випадкових масивів\n",
        "def generate_array(size):\n",
        "    return [random.randint(0, 100000) for _ in range(size)]\n",
        "\n",
        "def benchmark_sorting_algorithms():\n",
        "    sizes = [100, 1000, 10000]\n",
        "    results = {'Insertion Sort': [], 'Merge Sort': [], 'Timsort': []}\n",
        "    for size in sizes:\n",
        "        arr = generate_array(size)\n",
        "        # Отримуємо час виконання для insertion sort\n",
        "        insertion_sort_time = timeit.timeit(lambda: insertion_sort(arr.copy()), number=1)\n",
        "        results['Insertion Sort'].append(insertion_sort_time)\n",
        "\n",
        "        # Отримуємо час виконання для merge sort\n",
        "        merge_sort_time = timeit.timeit(lambda: merge_sort(arr.copy()), number=1)\n",
        "        results['Merge Sort'].append(merge_sort_time)\n",
        "\n",
        "        # Отримуємо час виконання для вбудованого sort (Timsort)\n",
        "        timsort_time = timeit.timeit(lambda: sorted(arr.copy()), number=1)\n",
        "        results['Timsort'].append(timsort_time)\n",
        "\n",
        "    return results\n"
      ],
      "metadata": {
        "id": "-m_NN_NVDmfl"
      },
      "execution_count": 11,
      "outputs": []
    },
    {
      "cell_type": "code",
      "source": [
        "# Виведемо результати в консоль\n",
        "results = benchmark_sorting_algorithms()\n",
        "\n",
        "# Форматування виводу для кращого читання\n",
        "print(\"Час виконання алгоритмів сортування (секунди):\")\n",
        "print(\"Розміри масивів: [100, 1000, 10000]\")\n",
        "for algorithm, times in results.items():\n",
        "    print(f\"{algorithm}: {times}\")\n"
      ],
      "metadata": {
        "colab": {
          "base_uri": "https://localhost:8080/"
        },
        "id": "JFOsKbzxFNwK",
        "outputId": "d127a57b-07a2-4d20-fba1-0a22529c9cf3"
      },
      "execution_count": 12,
      "outputs": [
        {
          "output_type": "stream",
          "name": "stdout",
          "text": [
            "Час виконання алгоритмів сортування (секунди):\n",
            "Розміри масивів: [100, 1000, 10000]\n",
            "Insertion Sort: [0.0005166430000826949, 0.049776549999933195, 4.616939673999923]\n",
            "Merge Sort: [0.00031807900018065993, 0.003503486999989036, 0.044996454000056474]\n",
            "Timsort: [1.3932999991084216e-05, 0.00013264499989418255, 0.0035417920000782033]\n"
          ]
        }
      ]
    },
    {
      "cell_type": "markdown",
      "source": [
        "# Аналіз Ефективності Алгоритмів Сортування\n",
        "\n",
        "## Вступ\n",
        "У даному аналізі порівнювались три алгоритми сортування: сортування вставками (Insertion Sort), сортування злиттям (Merge Sort) та Timsort, який є стандартним методом сортування в Python.\n",
        "\n",
        "## Методологія\n",
        "Тестування проводилось за допомогою модуля `timeit` у Python, який дозволяє вимірювати час виконання коду. Тестування здійснювалось на трьох наборах даних різного розміру: 100, 1000, і 10000 елементів, що дозволяє оцінити масштабованість алгоритмів.\n",
        "\n",
        "## Результати\n",
        "Тестування показало, що Timsort має значно кращу продуктивність порівняно з іншими двома алгоритмами на всіх наборах даних, особливо коли кількість елементів збільшується. Сортування злиттям також показало хороші результати і було значно швидшим, ніж сортування вставками, що є особливо помітним на великих наборах даних.\n",
        "\n",
        "## Аналіз\n",
        "Сортування злиттям та Timsort ефективні для великих даних через їх здатність до розподілу та ефективної обробки підмасивів. Сортування вставками, хоча й є простішим і зручним для маленьких масивів, стає неефективним при збільшенні розміру даних через квадратичну складність.\n",
        "\n",
        "Timsort використовує комбінацію підходів злиття та вставок, що дозволяє оптимізувати обробку практично в усіх сценаріях сортування, що робить його вибором за замовчуванням у Python.\n",
        "\n",
        "## Висновок\n",
        "Для практичних застосувань рекомендується використовувати вбудовані алгоритми сортування у Python, оскільки Timsort оптимізований для різноманітних даних і забезпечує високу продуктивність з мінімальними затратами часу на імплементацію і тестування власних алгоритмів.\n",
        "\n",
        "## Рекомендації\n",
        "Розробникам рекомендується вивчати вбудовані можливості мови, перш ніж розробляти власні рішення, оскільки стандартні бібліотеки зазвичай оптимізовані та добре тестовані.\n"
      ],
      "metadata": {
        "id": "jLF-t0awLNRs"
      }
    },
    {
      "cell_type": "markdown",
      "source": [
        "Додаткове завдання"
      ],
      "metadata": {
        "id": "nyj0YQdNJJQM"
      }
    },
    {
      "cell_type": "code",
      "source": [
        "import heapq\n",
        "\n",
        "def merge_k_lists(lists):\n",
        "    # Ініціалізуємо пріоритетну чергу\n",
        "    min_heap = []\n",
        "    for i, lst in enumerate(lists):\n",
        "        if lst:\n",
        "            # Додаємо перший елемент з кожного списку разом з індексом списку та індексом елемента у списку\n",
        "            heapq.heappush(min_heap, (lst[0], i, 0))\n",
        "\n",
        "    merged_list = []\n",
        "    # Доки в черзі є елементи\n",
        "    while min_heap:\n",
        "        val, list_idx, element_idx = heapq.heappop(min_heap)\n",
        "        merged_list.append(val)\n",
        "\n",
        "        # Якщо в списку є ще елементи, додаємо наступний у чергу\n",
        "        if element_idx + 1 < len(lists[list_idx]):\n",
        "            next_tuple = (lists[list_idx][element_idx + 1], list_idx, element_idx + 1)\n",
        "            heapq.heappush(min_heap, next_tuple)\n",
        "\n",
        "    return merged_list\n",
        "\n",
        "# Тестування функції\n",
        "lists = [[1, 4, 5], [1, 3, 4], [2, 6]]\n",
        "merged_list = merge_k_lists(lists)\n",
        "print(\"Відсортований список:\", merged_list)\n"
      ],
      "metadata": {
        "colab": {
          "base_uri": "https://localhost:8080/"
        },
        "id": "8NdeY2ewJM0a",
        "outputId": "a3dcf73e-79c5-44d6-db48-9e5380df12f8"
      },
      "execution_count": 13,
      "outputs": [
        {
          "output_type": "stream",
          "name": "stdout",
          "text": [
            "Відсортований список: [1, 1, 2, 3, 4, 4, 5, 6]\n"
          ]
        }
      ]
    }
  ]
}